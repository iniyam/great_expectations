{
 "cells": [
  {
   "cell_type": "markdown",
   "metadata": {},
   "source": [
    "## Before using this notebook, please run Distributional_Expectations_Demo_Prep.ipynb"
   ]
  },
  {
   "cell_type": "code",
   "execution_count": 1,
   "metadata": {
    "tags": []
   },
   "outputs": [],
   "source": [
    "# Dataset from here\n",
    "# https://archive.ics.uci.edu/ml/datasets/Adult"
   ]
  },
  {
   "cell_type": "code",
   "execution_count": 2,
   "metadata": {
    "tags": []
   },
   "outputs": [],
   "source": [
    "import great_expectations as gx\n",
    "import matplotlib.pyplot as plt\n",
    "import pandas as pd\n",
    "import numpy as np\n",
    "\n",
    "%matplotlib inline"
   ]
  },
  {
   "cell_type": "code",
   "execution_count": 3,
   "metadata": {
    "tags": []
   },
   "outputs": [],
   "source": [
    "\"\"\"\n",
    "age: continuous.\n",
    "workclass: Private, Self-emp-not-inc, Self-emp-inc, Federal-gov, Local-gov, State-gov, Without-pay, Never-worked.\n",
    "fnlwgt: continuous.\n",
    "education: Bachelors, Some-college, 11th, HS-grad, Prof-school, Assoc-acdm, Assoc-voc, 9th, 7th-8th, 12th, Masters, 1st-4th, 10th, Doctorate, 5th-6th, Preschool.\n",
    "education-num: continuous.\n",
    "marital-status: Married-civ-spouse, Divorced, Never-married, Separated, Widowed, Married-spouse-absent, Married-AF-spouse.\n",
    "occupation: Tech-support, Craft-repair, Other-service, Sales, Exec-managerial, Prof-specialty, Handlers-cleaners, Machine-op-inspct, Adm-clerical, Farming-fishing, Transport-moving, Priv-house-serv, Protective-serv, Armed-Forces.\n",
    "relationship: Wife, Own-child, Husband, Not-in-family, Other-relative, Unmarried.\n",
    "race: White, Asian-Pac-Islander, Amer-Indian-Eskimo, Other, Black.\n",
    "sex: Female, Male.\n",
    "capital-gain: continuous.\n",
    "capital-loss: continuous.\n",
    "hours-per-week: continuous.\n",
    "native-country: United-States, Cambodia, England, Puerto-Rico, Canada, Germany, Outlying-US(Guam-USVI-etc), India, Japan, Greece, South, China, Cuba, Iran, Honduras, Philippines, Italy, Poland, Jamaica, Vietnam, Mexico, Portugal, Ireland, France, Dominican-Republic, Laos, Ecuador, Taiwan, Haiti, Columbia, Hungary, Guatemala, Nicaragua, Scotland, Thailand, Yugoslavia, El-Salvador, Trinadad&Tobago, Peru, Hong, Holand-Netherlands.\n",
    "\"\"\"\n",
    "categorical_columns = [\n",
    "    \"workclass\",\n",
    "    \"education\",\n",
    "    \"marital-status\",\n",
    "    \"occupation\",\n",
    "    \"relationship\",\n",
    "    \"race\",\n",
    "    \"sex\",\n",
    "    \"native-country\",\n",
    "]\n",
    "continuous_columns = [\n",
    "    \"age\",\n",
    "    \"fnlwgt\",\n",
    "    \"education-num\",\n",
    "    \"capital-gain\",\n",
    "    \"capital-loss\",\n",
    "    \"hours-per-week\",\n",
    "]"
   ]
  },
  {
   "cell_type": "code",
   "execution_count": 4,
   "metadata": {},
   "outputs": [
    {
     "data": {
      "text/html": [
       "<div>\n",
       "<style scoped>\n",
       "    .dataframe tbody tr th:only-of-type {\n",
       "        vertical-align: middle;\n",
       "    }\n",
       "\n",
       "    .dataframe tbody tr th {\n",
       "        vertical-align: top;\n",
       "    }\n",
       "\n",
       "    .dataframe thead th {\n",
       "        text-align: right;\n",
       "    }\n",
       "</style>\n",
       "<table border=\"1\" class=\"dataframe\">\n",
       "  <thead>\n",
       "    <tr style=\"text-align: right;\">\n",
       "      <th></th>\n",
       "      <th>age</th>\n",
       "      <th>workclass</th>\n",
       "      <th>fnlwgt</th>\n",
       "      <th>education</th>\n",
       "      <th>education-num</th>\n",
       "      <th>marital-status</th>\n",
       "      <th>occupation</th>\n",
       "      <th>relationship</th>\n",
       "      <th>race</th>\n",
       "      <th>sex</th>\n",
       "      <th>capital-gain</th>\n",
       "      <th>capital-loss</th>\n",
       "      <th>hours-per-week</th>\n",
       "      <th>native-country</th>\n",
       "      <th>&lt;=50k</th>\n",
       "    </tr>\n",
       "  </thead>\n",
       "  <tbody>\n",
       "    <tr>\n",
       "      <th>0</th>\n",
       "      <td>39</td>\n",
       "      <td>State-gov</td>\n",
       "      <td>77516</td>\n",
       "      <td>Bachelors</td>\n",
       "      <td>13</td>\n",
       "      <td>Never-married</td>\n",
       "      <td>Adm-clerical</td>\n",
       "      <td>Not-in-family</td>\n",
       "      <td>White</td>\n",
       "      <td>Male</td>\n",
       "      <td>2174</td>\n",
       "      <td>0</td>\n",
       "      <td>40</td>\n",
       "      <td>United-States</td>\n",
       "      <td>&lt;=50K</td>\n",
       "    </tr>\n",
       "    <tr>\n",
       "      <th>1</th>\n",
       "      <td>37</td>\n",
       "      <td>Private</td>\n",
       "      <td>284582</td>\n",
       "      <td>Masters</td>\n",
       "      <td>14</td>\n",
       "      <td>Married-civ-spouse</td>\n",
       "      <td>Exec-managerial</td>\n",
       "      <td>Wife</td>\n",
       "      <td>White</td>\n",
       "      <td>Female</td>\n",
       "      <td>0</td>\n",
       "      <td>0</td>\n",
       "      <td>40</td>\n",
       "      <td>United-States</td>\n",
       "      <td>&lt;=50K</td>\n",
       "    </tr>\n",
       "    <tr>\n",
       "      <th>2</th>\n",
       "      <td>49</td>\n",
       "      <td>Private</td>\n",
       "      <td>160187</td>\n",
       "      <td>9th</td>\n",
       "      <td>5</td>\n",
       "      <td>Married-spouse-absent</td>\n",
       "      <td>Other-service</td>\n",
       "      <td>Not-in-family</td>\n",
       "      <td>Black</td>\n",
       "      <td>Female</td>\n",
       "      <td>0</td>\n",
       "      <td>0</td>\n",
       "      <td>16</td>\n",
       "      <td>Jamaica</td>\n",
       "      <td>&lt;=50K</td>\n",
       "    </tr>\n",
       "    <tr>\n",
       "      <th>3</th>\n",
       "      <td>52</td>\n",
       "      <td>Self-emp-not-inc</td>\n",
       "      <td>209642</td>\n",
       "      <td>HS-grad</td>\n",
       "      <td>9</td>\n",
       "      <td>Married-civ-spouse</td>\n",
       "      <td>Exec-managerial</td>\n",
       "      <td>Husband</td>\n",
       "      <td>White</td>\n",
       "      <td>Male</td>\n",
       "      <td>0</td>\n",
       "      <td>0</td>\n",
       "      <td>45</td>\n",
       "      <td>United-States</td>\n",
       "      <td>&gt;50K</td>\n",
       "    </tr>\n",
       "    <tr>\n",
       "      <th>4</th>\n",
       "      <td>31</td>\n",
       "      <td>Private</td>\n",
       "      <td>45781</td>\n",
       "      <td>Masters</td>\n",
       "      <td>14</td>\n",
       "      <td>Never-married</td>\n",
       "      <td>Prof-specialty</td>\n",
       "      <td>Not-in-family</td>\n",
       "      <td>White</td>\n",
       "      <td>Female</td>\n",
       "      <td>14084</td>\n",
       "      <td>0</td>\n",
       "      <td>50</td>\n",
       "      <td>United-States</td>\n",
       "      <td>&gt;50K</td>\n",
       "    </tr>\n",
       "  </tbody>\n",
       "</table>\n",
       "</div>"
      ],
      "text/plain": [
       "   age          workclass  fnlwgt   education  education-num  \\\n",
       "0   39          State-gov   77516   Bachelors             13   \n",
       "1   37            Private  284582     Masters             14   \n",
       "2   49            Private  160187         9th              5   \n",
       "3   52   Self-emp-not-inc  209642     HS-grad              9   \n",
       "4   31            Private   45781     Masters             14   \n",
       "\n",
       "           marital-status        occupation    relationship    race      sex  \\\n",
       "0           Never-married      Adm-clerical   Not-in-family   White     Male   \n",
       "1      Married-civ-spouse   Exec-managerial            Wife   White   Female   \n",
       "2   Married-spouse-absent     Other-service   Not-in-family   Black   Female   \n",
       "3      Married-civ-spouse   Exec-managerial         Husband   White     Male   \n",
       "4           Never-married    Prof-specialty   Not-in-family   White   Female   \n",
       "\n",
       "   capital-gain  capital-loss  hours-per-week  native-country   <=50k  \n",
       "0          2174             0              40   United-States   <=50K  \n",
       "1             0             0              40   United-States   <=50K  \n",
       "2             0             0              16         Jamaica   <=50K  \n",
       "3             0             0              45   United-States    >50K  \n",
       "4         14084             0              50   United-States    >50K  "
      ]
     },
     "execution_count": 4,
     "metadata": {},
     "output_type": "execute_result"
    }
   ],
   "source": [
    "df = gx.read_csv(\"../data/adult.data.b_2_train.csv\")\n",
    "df_test = gx.read_csv(\"../data/adult.data.b_2_test.csv\")\n",
    "\n",
    "df.head()"
   ]
  },
  {
   "cell_type": "code",
   "execution_count": 5,
   "metadata": {},
   "outputs": [
    {
     "data": {
      "text/plain": [
       "(11259, 15)"
      ]
     },
     "execution_count": 5,
     "metadata": {},
     "output_type": "execute_result"
    }
   ],
   "source": [
    "df.shape"
   ]
  },
  {
   "cell_type": "code",
   "execution_count": 6,
   "metadata": {},
   "outputs": [
    {
     "data": {
      "text/plain": [
       "{\n",
       "  \"result\": {\n",
       "    \"element_count\": 11259,\n",
       "    \"missing_count\": 0,\n",
       "    \"missing_percent\": 0.0,\n",
       "    \"unexpected_count\": 11259,\n",
       "    \"unexpected_percent\": 100.0,\n",
       "    \"unexpected_percent_total\": 100.0,\n",
       "    \"unexpected_percent_nonmissing\": 100.0,\n",
       "    \"partial_unexpected_list\": [\n",
       "      \" Male\",\n",
       "      \" Female\",\n",
       "      \" Female\",\n",
       "      \" Male\",\n",
       "      \" Female\",\n",
       "      \" Female\",\n",
       "      \" Male\",\n",
       "      \" Male\",\n",
       "      \" Female\",\n",
       "      \" Female\",\n",
       "      \" Male\",\n",
       "      \" Male\",\n",
       "      \" Female\",\n",
       "      \" Female\",\n",
       "      \" Female\",\n",
       "      \" Male\",\n",
       "      \" Female\",\n",
       "      \" Female\",\n",
       "      \" Male\",\n",
       "      \" Male\"\n",
       "    ]\n",
       "  },\n",
       "  \"exception_info\": {\n",
       "    \"raised_exception\": false,\n",
       "    \"exception_traceback\": null,\n",
       "    \"exception_message\": null\n",
       "  },\n",
       "  \"success\": false,\n",
       "  \"meta\": {}\n",
       "}"
      ]
     },
     "execution_count": 6,
     "metadata": {},
     "output_type": "execute_result"
    }
   ],
   "source": [
    "df.expect_column_values_to_be_in_set(\"sex\", [\"Female\", \"Male\"])"
   ]
  },
  {
   "cell_type": "code",
   "execution_count": 7,
   "metadata": {
    "tags": []
   },
   "outputs": [],
   "source": [
    "def strip_spaces(df):\n",
    "    for column in df.columns:\n",
    "        if isinstance(df[column][0], str):\n",
    "            df[column] = df[column].apply(str.strip)\n",
    "\n",
    "\n",
    "strip_spaces(df)\n",
    "strip_spaces(df_test)"
   ]
  },
  {
   "cell_type": "code",
   "execution_count": 8,
   "metadata": {},
   "outputs": [
    {
     "data": {
      "text/plain": [
       "{\n",
       "  \"result\": {\n",
       "    \"element_count\": 11259,\n",
       "    \"missing_count\": 0,\n",
       "    \"missing_percent\": 0.0,\n",
       "    \"unexpected_count\": 0,\n",
       "    \"unexpected_percent\": 0.0,\n",
       "    \"unexpected_percent_total\": 0.0,\n",
       "    \"unexpected_percent_nonmissing\": 0.0,\n",
       "    \"partial_unexpected_list\": []\n",
       "  },\n",
       "  \"exception_info\": {\n",
       "    \"raised_exception\": false,\n",
       "    \"exception_traceback\": null,\n",
       "    \"exception_message\": null\n",
       "  },\n",
       "  \"success\": true,\n",
       "  \"meta\": {}\n",
       "}"
      ]
     },
     "execution_count": 8,
     "metadata": {},
     "output_type": "execute_result"
    }
   ],
   "source": [
    "df.expect_column_values_to_be_in_set(\"sex\", [\"Female\", \"Male\"])"
   ]
  },
  {
   "cell_type": "code",
   "execution_count": 9,
   "metadata": {
    "tags": []
   },
   "outputs": [],
   "source": [
    "df[\"y\"] = df[\"<=50k\"].apply(lambda x: 0 if (x == \"<=50K\") else 1)\n",
    "df_test[\"y\"] = df_test[\"<=50k\"].apply(lambda x: 0 if (x == \"<=50K\") else 1)"
   ]
  },
  {
   "cell_type": "code",
   "execution_count": 10,
   "metadata": {},
   "outputs": [
    {
     "data": {
      "text/plain": [
       "<AxesSubplot: >"
      ]
     },
     "execution_count": 10,
     "metadata": {},
     "output_type": "execute_result"
    },
    {
     "data": {
      "image/png": "[encoded data removed]",
      "text/plain": [
       "<Figure size 640x480 with 1 Axes>"
      ]
     },
     "metadata": {},
     "output_type": "display_data"
    }
   ],
   "source": [
    "df[\"sex\"].value_counts().plot(kind=\"bar\")"
   ]
  },
  {
   "cell_type": "code",
   "execution_count": 11,
   "metadata": {},
   "outputs": [
    {
     "data": {
      "text/plain": [
       "{\n",
       "  \"result\": {\n",
       "    \"observed_value\": 0.9999999999999918,\n",
       "    \"element_count\": 11259,\n",
       "    \"missing_count\": null,\n",
       "    \"missing_percent\": null\n",
       "  },\n",
       "  \"exception_info\": {\n",
       "    \"raised_exception\": false,\n",
       "    \"exception_traceback\": null,\n",
       "    \"exception_message\": null\n",
       "  },\n",
       "  \"success\": true,\n",
       "  \"meta\": {}\n",
       "}"
      ]
     },
     "execution_count": 11,
     "metadata": {},
     "output_type": "execute_result"
    }
   ],
   "source": [
    "sex_partition = gx.dataset.util.categorical_partition_data(df[\"sex\"])\n",
    "df.expect_column_chisquare_test_p_value_to_be_greater_than(\"sex\", sex_partition)"
   ]
  },
  {
   "cell_type": "code",
   "execution_count": 12,
   "metadata": {},
   "outputs": [
    {
     "data": {
      "text/plain": [
       "{\n",
       "  \"result\": {\n",
       "    \"observed_value\": 0.5182046382338577,\n",
       "    \"element_count\": 2851,\n",
       "    \"missing_count\": null,\n",
       "    \"missing_percent\": null\n",
       "  },\n",
       "  \"exception_info\": {\n",
       "    \"raised_exception\": false,\n",
       "    \"exception_traceback\": null,\n",
       "    \"exception_message\": null\n",
       "  },\n",
       "  \"success\": true,\n",
       "  \"meta\": {}\n",
       "}"
      ]
     },
     "execution_count": 12,
     "metadata": {},
     "output_type": "execute_result"
    }
   ],
   "source": [
    "df_test.expect_column_chisquare_test_p_value_to_be_greater_than(\"sex\", sex_partition)"
   ]
  },
  {
   "cell_type": "code",
   "execution_count": 13,
   "metadata": {},
   "outputs": [
    {
     "data": {
      "text/plain": [
       "(array([2293., 2046., 1944., 2054., 1311.,  837.,  530.,  165.,   61.,\n",
       "          18.]),\n",
       " array([17. , 24.3, 31.6, 38.9, 46.2, 53.5, 60.8, 68.1, 75.4, 82.7, 90. ]),\n",
       " <BarContainer object of 10 artists>)"
      ]
     },
     "execution_count": 13,
     "metadata": {},
     "output_type": "execute_result"
    },
    {
     "data": {
      "image/png": "[encoded data removed]",
      "text/plain": [
       "<Figure size 640x480 with 1 Axes>"
      ]
     },
     "metadata": {},
     "output_type": "display_data"
    }
   ],
   "source": [
    "plt.hist(df[\"age\"])"
   ]
  },
  {
   "cell_type": "code",
   "execution_count": 14,
   "metadata": {},
   "outputs": [
    {
     "data": {
      "text/plain": [
       "{\n",
       "  \"result\": {\n",
       "    \"observed_value\": 0.9280719280719281,\n",
       "    \"element_count\": 11259,\n",
       "    \"missing_count\": null,\n",
       "    \"missing_percent\": null\n",
       "  },\n",
       "  \"exception_info\": {\n",
       "    \"raised_exception\": false,\n",
       "    \"exception_traceback\": null,\n",
       "    \"exception_message\": null\n",
       "  },\n",
       "  \"success\": true,\n",
       "  \"meta\": {}\n",
       "}"
      ]
     },
     "execution_count": 14,
     "metadata": {},
     "output_type": "execute_result"
    }
   ],
   "source": [
    "age_partition = gx.dataset.util.continuous_partition_data(df[\"age\"])\n",
    "df.expect_column_bootstrapped_ks_test_p_value_to_be_greater_than(\"age\", age_partition)"
   ]
  },
  {
   "cell_type": "code",
   "execution_count": 15,
   "metadata": {},
   "outputs": [
    {
     "name": "stdout",
     "output_type": "stream",
     "text": [
      "{\n",
      "  \"result\": {\n",
      "    \"observed_value\": 0.903096903096903,\n",
      "    \"element_count\": 2851,\n",
      "    \"missing_count\": null,\n",
      "    \"missing_percent\": null\n",
      "  },\n",
      "  \"exception_info\": {\n",
      "    \"raised_exception\": false,\n",
      "    \"exception_traceback\": null,\n",
      "    \"exception_message\": null\n",
      "  },\n",
      "  \"success\": true,\n",
      "  \"expectation_config\": {\n",
      "    \"kwargs\": {\n",
      "      \"column\": \"age\",\n",
      "      \"partition_object\": {\n",
      "        \"bins\": [\n",
      "          17.0,\n",
      "          18.871794871794872,\n",
      "          20.743589743589745,\n",
      "          22.615384615384613,\n",
      "          24.48717948717949,\n",
      "          26.358974358974358,\n",
      "          28.23076923076923,\n",
      "          30.102564102564102,\n",
      "          31.974358974358974,\n",
      "          33.84615384615385,\n",
      "          35.717948717948715,\n",
      "          37.58974358974359,\n",
      "          39.46153846153846,\n",
      "          41.33333333333333,\n",
      "          43.205128205128204,\n",
      "          45.07692307692308,\n",
      "          46.94871794871795,\n",
      "          48.82051282051282,\n",
      "          50.69230769230769,\n",
      "          52.56410256410256,\n",
      "          54.43589743589744,\n",
      "          56.30769230769231,\n",
      "          58.17948717948718,\n",
      "          60.05128205128205,\n",
      "          61.92307692307692,\n",
      "          63.794871794871796,\n",
      "          65.66666666666666,\n",
      "          67.53846153846155,\n",
      "          69.41025641025641,\n",
      "          71.28205128205128,\n",
      "          73.15384615384616,\n",
      "          75.02564102564102,\n",
      "          76.8974358974359,\n",
      "          78.76923076923077,\n",
      "          80.64102564102564,\n",
      "          82.51282051282051,\n",
      "          84.38461538461539,\n",
      "          86.25641025641026,\n",
      "          88.12820512820512,\n",
      "          90.0\n",
      "        ],\n",
      "        \"weights\": [\n",
      "          0.03481659117150724,\n",
      "          0.05737632116528999,\n",
      "          0.054800603961275424,\n",
      "          0.056665778488320453,\n",
      "          0.05231370459188205,\n",
      "          0.05462296829203304,\n",
      "          0.048050448530064835,\n",
      "          0.026734168220978773,\n",
      "          0.048583355537791986,\n",
      "          0.05071498356870059,\n",
      "          0.05000444089173106,\n",
      "          0.04591882049915623,\n",
      "          0.048050448530064835,\n",
      "          0.046185274003019805,\n",
      "          0.04325428546052047,\n",
      "          0.02238209432454037,\n",
      "          0.03899102939870326,\n",
      "          0.03375077715605294,\n",
      "          0.030375699440447643,\n",
      "          0.025224265032418508,\n",
      "          0.023625544009237054,\n",
      "          0.021316280309086066,\n",
      "          0.017497113420374813,\n",
      "          0.00826005861977085,\n",
      "          0.014477307043254286,\n",
      "          0.010480504485300648,\n",
      "          0.010036415312194688,\n",
      "          0.006927791100452971,\n",
      "          0.004796163069544364,\n",
      "          0.004263256061817213,\n",
      "          0.0024868993693933743,\n",
      "          0.0012434496846966871,\n",
      "          0.0015987210231814548,\n",
      "          0.0010658140154543032,\n",
      "          0.0015099031885602628,\n",
      "          0.0003552713384847677,\n",
      "          8.881783462119193e-05,\n",
      "          8.881783462119193e-05,\n",
      "          0.0010658140154543032\n",
      "        ]\n",
      "      },\n",
      "      \"result_format\": \"BASIC\"\n",
      "    },\n",
      "    \"expectation_type\": \"expect_column_bootstrapped_ks_test_p_value_to_be_greater_than\",\n",
      "    \"meta\": {}\n",
      "  },\n",
      "  \"meta\": {}\n",
      "}\n"
     ]
    }
   ],
   "source": [
    "out = df_test.expect_column_bootstrapped_ks_test_p_value_to_be_greater_than(\n",
    "    \"age\", age_partition\n",
    ")\n",
    "print(out)"
   ]
  },
  {
   "cell_type": "code",
   "execution_count": 16,
   "metadata": {
    "tags": []
   },
   "outputs": [
    {
     "data": {
      "text/plain": [
       "<AxesSubplot: >"
      ]
     },
     "execution_count": 16,
     "metadata": {},
     "output_type": "execute_result"
    },
    {
     "data": {
      "image/png": "[encoded data removed]",
      "text/plain": [
       "<Figure size 640x480 with 1 Axes>"
      ]
     },
     "metadata": {},
     "output_type": "display_data"
    }
   ],
   "source": [
    "df[\"<=50k\"].value_counts().plot(kind=\"bar\")"
   ]
  },
  {
   "cell_type": "code",
   "execution_count": 17,
   "metadata": {
    "tags": []
   },
   "outputs": [
    {
     "data": {
      "text/plain": [
       "<AxesSubplot: >"
      ]
     },
     "execution_count": 17,
     "metadata": {},
     "output_type": "execute_result"
    },
    {
     "data": {
      "image/png": "[encoded data removed]",
      "text/plain": [
       "<Figure size 640x480 with 1 Axes>"
      ]
     },
     "metadata": {},
     "output_type": "display_data"
    }
   ],
   "source": [
    "df[\"education\"].value_counts().plot(kind=\"bar\")"
   ]
  },
  {
   "cell_type": "code",
   "execution_count": 18,
   "metadata": {
    "tags": []
   },
   "outputs": [
    {
     "data": {
      "text/plain": [
       "{\n",
       "  \"result\": {\n",
       "    \"observed_value\": 1.0,\n",
       "    \"element_count\": 11259,\n",
       "    \"missing_count\": null,\n",
       "    \"missing_percent\": null\n",
       "  },\n",
       "  \"exception_info\": {\n",
       "    \"raised_exception\": false,\n",
       "    \"exception_traceback\": null,\n",
       "    \"exception_message\": null\n",
       "  },\n",
       "  \"success\": true,\n",
       "  \"meta\": {}\n",
       "}"
      ]
     },
     "execution_count": 18,
     "metadata": {},
     "output_type": "execute_result"
    }
   ],
   "source": [
    "education_partition = gx.dataset.util.categorical_partition_data(df[\"education\"])\n",
    "df.expect_column_chisquare_test_p_value_to_be_greater_than(\n",
    "    \"education\", education_partition\n",
    ")"
   ]
  },
  {
   "cell_type": "code",
   "execution_count": 19,
   "metadata": {
    "tags": []
   },
   "outputs": [
    {
     "data": {
      "text/plain": [
       "{\n",
       "  \"result\": {\n",
       "    \"observed_value\": 0.18419588995064165,\n",
       "    \"element_count\": 2851,\n",
       "    \"missing_count\": null,\n",
       "    \"missing_percent\": null\n",
       "  },\n",
       "  \"exception_info\": {\n",
       "    \"raised_exception\": false,\n",
       "    \"exception_traceback\": null,\n",
       "    \"exception_message\": null\n",
       "  },\n",
       "  \"success\": true,\n",
       "  \"meta\": {}\n",
       "}"
      ]
     },
     "execution_count": 19,
     "metadata": {},
     "output_type": "execute_result"
    },
    {
     "data": {
      "image/png": "[encoded data removed]",
      "text/plain": [
       "<Figure size 640x480 with 1 Axes>"
      ]
     },
     "metadata": {},
     "output_type": "display_data"
    }
   ],
   "source": [
    "df_test[\"education\"].value_counts().plot(kind=\"bar\")\n",
    "df_test.expect_column_chisquare_test_p_value_to_be_greater_than(\n",
    "    \"education\", education_partition\n",
    ")"
   ]
  },
  {
   "cell_type": "code",
   "execution_count": 20,
   "metadata": {
    "tags": []
   },
   "outputs": [
    {
     "data": {
      "text/plain": [
       "{\n",
       "  \"result\": {\n",
       "    \"observed_value\": 0.003543959000021645,\n",
       "    \"element_count\": 2851,\n",
       "    \"missing_count\": null,\n",
       "    \"missing_percent\": null\n",
       "  },\n",
       "  \"exception_info\": {\n",
       "    \"raised_exception\": false,\n",
       "    \"exception_traceback\": null,\n",
       "    \"exception_message\": null\n",
       "  },\n",
       "  \"success\": true,\n",
       "  \"meta\": {}\n",
       "}"
      ]
     },
     "execution_count": 20,
     "metadata": {},
     "output_type": "execute_result"
    }
   ],
   "source": [
    "df_test.expect_column_kl_divergence_to_be_less_than(\n",
    "    \"education\", education_partition, threshold=0.1\n",
    ")"
   ]
  },
  {
   "cell_type": "code",
   "execution_count": 21,
   "metadata": {
    "tags": []
   },
   "outputs": [
    {
     "data": {
      "text/plain": [
       "(array([  79.,  102.,  353.,  308.,  581., 3599., 3254.,  395., 2333.,\n",
       "         255.]),\n",
       " array([ 1. ,  2.5,  4. ,  5.5,  7. ,  8.5, 10. , 11.5, 13. , 14.5, 16. ]),\n",
       " <BarContainer object of 10 artists>)"
      ]
     },
     "execution_count": 21,
     "metadata": {},
     "output_type": "execute_result"
    },
    {
     "data": {
      "image/png": "[encoded data removed]",
      "text/plain": [
       "<Figure size 640x480 with 1 Axes>"
      ]
     },
     "metadata": {},
     "output_type": "display_data"
    }
   ],
   "source": [
    "plt.hist(df[\"education-num\"])"
   ]
  },
  {
   "cell_type": "code",
   "execution_count": 22,
   "metadata": {
    "tags": []
   },
   "outputs": [
    {
     "data": {
      "text/plain": [
       "{\n",
       "  \"result\": {\n",
       "    \"observed_value\": 0.001998001998001998,\n",
       "    \"element_count\": 11259,\n",
       "    \"missing_count\": null,\n",
       "    \"missing_percent\": null\n",
       "  },\n",
       "  \"exception_info\": {\n",
       "    \"raised_exception\": false,\n",
       "    \"exception_traceback\": null,\n",
       "    \"exception_message\": null\n",
       "  },\n",
       "  \"success\": false,\n",
       "  \"meta\": {}\n",
       "}"
      ]
     },
     "execution_count": 22,
     "metadata": {},
     "output_type": "execute_result"
    }
   ],
   "source": [
    "education_num_partition_auto = gx.dataset.util.continuous_partition_data(\n",
    "    df[\"education-num\"]\n",
    ")\n",
    "df.expect_column_bootstrapped_ks_test_p_value_to_be_greater_than(\n",
    "    \"education-num\", education_num_partition_auto\n",
    ")"
   ]
  },
  {
   "cell_type": "code",
   "execution_count": 23,
   "metadata": {
    "tags": []
   },
   "outputs": [
    {
     "data": {
      "text/plain": [
       "{'bins': array([ 1.        ,  1.26315789,  1.52631579,  1.78947368,  2.05263158,\n",
       "         2.31578947,  2.57894737,  2.84210526,  3.10526316,  3.36842105,\n",
       "         3.63157895,  3.89473684,  4.15789474,  4.42105263,  4.68421053,\n",
       "         4.94736842,  5.21052632,  5.47368421,  5.73684211,  6.        ,\n",
       "         6.26315789,  6.52631579,  6.78947368,  7.05263158,  7.31578947,\n",
       "         7.57894737,  7.84210526,  8.10526316,  8.36842105,  8.63157895,\n",
       "         8.89473684,  9.15789474,  9.42105263,  9.68421053,  9.94736842,\n",
       "        10.21052632, 10.47368421, 10.73684211, 11.        , 11.26315789,\n",
       "        11.52631579, 11.78947368, 12.05263158, 12.31578947, 12.57894737,\n",
       "        12.84210526, 13.10526316, 13.36842105, 13.63157895, 13.89473684,\n",
       "        14.15789474, 14.42105263, 14.68421053, 14.94736842, 15.21052632,\n",
       "        15.47368421, 15.73684211, 16.        ]),\n",
       " 'weights': array([0.00168754, 0.        , 0.        , 0.00532907, 0.        ,\n",
       "        0.        , 0.        , 0.00905942, 0.        , 0.        ,\n",
       "        0.        , 0.01625366, 0.        , 0.        , 0.        ,\n",
       "        0.01509903, 0.        , 0.        , 0.        , 0.02735589,\n",
       "        0.        , 0.        , 0.0383693 , 0.        , 0.        ,\n",
       "        0.        , 0.01323386, 0.        , 0.        , 0.        ,\n",
       "        0.31965539, 0.        , 0.        , 0.        , 0.24362732,\n",
       "        0.        , 0.        , 0.        , 0.04538591, 0.        ,\n",
       "        0.        , 0.03508304, 0.        , 0.        , 0.        ,\n",
       "        0.15720757, 0.        , 0.        , 0.        , 0.05000444,\n",
       "        0.        , 0.        , 0.        , 0.01216804, 0.        ,\n",
       "        0.        , 0.0104805 ])}"
      ]
     },
     "execution_count": 23,
     "metadata": {},
     "output_type": "execute_result"
    }
   ],
   "source": [
    "education_num_partition_auto"
   ]
  },
  {
   "cell_type": "code",
   "execution_count": 24,
   "metadata": {
    "tags": []
   },
   "outputs": [
    {
     "data": {
      "text/plain": [
       "{\n",
       "  \"result\": {\n",
       "    \"observed_value\": 1.0,\n",
       "    \"element_count\": 11259,\n",
       "    \"missing_count\": null,\n",
       "    \"missing_percent\": null\n",
       "  },\n",
       "  \"exception_info\": {\n",
       "    \"raised_exception\": false,\n",
       "    \"exception_traceback\": null,\n",
       "    \"exception_message\": null\n",
       "  },\n",
       "  \"success\": true,\n",
       "  \"meta\": {}\n",
       "}"
      ]
     },
     "execution_count": 24,
     "metadata": {},
     "output_type": "execute_result"
    }
   ],
   "source": [
    "education_num_partition_cat = gx.dataset.util.categorical_partition_data(\n",
    "    df[\"education-num\"]\n",
    ")\n",
    "df.expect_column_chisquare_test_p_value_to_be_greater_than(\n",
    "    \"education-num\", education_num_partition_cat\n",
    ")"
   ]
  },
  {
   "cell_type": "code",
   "execution_count": 25,
   "metadata": {
    "tags": []
   },
   "outputs": [
    {
     "data": {
      "text/plain": [
       "{\n",
       "  \"result\": {\n",
       "    \"observed_value\": 0.18419588995064165,\n",
       "    \"element_count\": 2851,\n",
       "    \"missing_count\": null,\n",
       "    \"missing_percent\": null\n",
       "  },\n",
       "  \"exception_info\": {\n",
       "    \"raised_exception\": false,\n",
       "    \"exception_traceback\": null,\n",
       "    \"exception_message\": null\n",
       "  },\n",
       "  \"success\": true,\n",
       "  \"meta\": {}\n",
       "}"
      ]
     },
     "execution_count": 25,
     "metadata": {},
     "output_type": "execute_result"
    }
   ],
   "source": [
    "df_test.expect_column_chisquare_test_p_value_to_be_greater_than(\n",
    "    \"education-num\", education_num_partition_cat\n",
    ")"
   ]
  },
  {
   "cell_type": "code",
   "execution_count": 26,
   "metadata": {
    "tags": []
   },
   "outputs": [
    {
     "data": {
      "text/plain": [
       "{\n",
       "  \"result\": {\n",
       "    \"observed_value\": 0.5404595404595405,\n",
       "    \"element_count\": 11259,\n",
       "    \"missing_count\": null,\n",
       "    \"missing_percent\": null\n",
       "  },\n",
       "  \"exception_info\": {\n",
       "    \"raised_exception\": false,\n",
       "    \"exception_traceback\": null,\n",
       "    \"exception_message\": null\n",
       "  },\n",
       "  \"success\": true,\n",
       "  \"meta\": {}\n",
       "}"
      ]
     },
     "execution_count": 26,
     "metadata": {},
     "output_type": "execute_result"
    }
   ],
   "source": [
    "education_num_partition = gx.dataset.util.continuous_partition_data(\n",
    "    df[\"education-num\"], bins=\"uniform\", n_bins=10\n",
    ")\n",
    "df.expect_column_bootstrapped_ks_test_p_value_to_be_greater_than(\n",
    "    \"education-num\", education_num_partition\n",
    ")"
   ]
  },
  {
   "cell_type": "code",
   "execution_count": 27,
   "metadata": {
    "tags": []
   },
   "outputs": [],
   "source": [
    "s1 = df[\"education\"][df[\"y\"] == 1].value_counts()\n",
    "s1.name = \"education_y_1\"\n",
    "s2 = df[\"education\"][df[\"y\"] == 0].value_counts()\n",
    "s2.name = \"education_y_0\"\n",
    "plotter = pd.concat([s1, s2], axis=1)"
   ]
  },
  {
   "cell_type": "code",
   "execution_count": 28,
   "metadata": {
    "tags": []
   },
   "outputs": [
    {
     "data": {
      "image/png": "[encoded data removed]",
      "text/plain": [
       "<Figure size 640x480 with 1 Axes>"
      ]
     },
     "metadata": {},
     "output_type": "display_data"
    }
   ],
   "source": [
    "p1 = plt.bar(range(len(plotter)), plotter[\"education_y_0\"])\n",
    "p2 = plt.bar(\n",
    "    range(len(plotter)), plotter[\"education_y_1\"], bottom=plotter[\"education_y_0\"]\n",
    ")\n",
    "\n",
    "plt.xticks(range(len(plotter)), plotter.index, rotation=\"vertical\")\n",
    "plt.show()"
   ]
  },
  {
   "cell_type": "code",
   "execution_count": 29,
   "metadata": {
    "tags": []
   },
   "outputs": [
    {
     "data": {
      "text/plain": [
       "{\n",
       "  \"expectation_suite_name\": \"default\",\n",
       "  \"ge_cloud_id\": null,\n",
       "  \"expectations\": [\n",
       "    {\n",
       "      \"kwargs\": {\n",
       "        \"column\": \"sex\",\n",
       "        \"value_set\": [\n",
       "          \"Female\",\n",
       "          \"Male\"\n",
       "        ]\n",
       "      },\n",
       "      \"expectation_type\": \"expect_column_values_to_be_in_set\",\n",
       "      \"meta\": {}\n",
       "    },\n",
       "    {\n",
       "      \"kwargs\": {\n",
       "        \"column\": \"sex\",\n",
       "        \"partition_object\": {\n",
       "          \"values\": [\n",
       "            \"Female\",\n",
       "            \"Male\"\n",
       "          ],\n",
       "          \"weights\": [\n",
       "            0.6888711253219647,\n",
       "            0.31112887467803535\n",
       "          ]\n",
       "        }\n",
       "      },\n",
       "      \"expectation_type\": \"expect_column_chisquare_test_p_value_to_be_greater_than\",\n",
       "      \"meta\": {}\n",
       "    },\n",
       "    {\n",
       "      \"kwargs\": {\n",
       "        \"column\": \"age\",\n",
       "        \"partition_object\": {\n",
       "          \"bins\": [\n",
       "            17.0,\n",
       "            18.871794871794872,\n",
       "            20.743589743589745,\n",
       "            22.615384615384613,\n",
       "            24.48717948717949,\n",
       "            26.358974358974358,\n",
       "            28.23076923076923,\n",
       "            30.102564102564102,\n",
       "            31.974358974358974,\n",
       "            33.84615384615385,\n",
       "            35.717948717948715,\n",
       "            37.58974358974359,\n",
       "            39.46153846153846,\n",
       "            41.33333333333333,\n",
       "            43.205128205128204,\n",
       "            45.07692307692308,\n",
       "            46.94871794871795,\n",
       "            48.82051282051282,\n",
       "            50.69230769230769,\n",
       "            52.56410256410256,\n",
       "            54.43589743589744,\n",
       "            56.30769230769231,\n",
       "            58.17948717948718,\n",
       "            60.05128205128205,\n",
       "            61.92307692307692,\n",
       "            63.794871794871796,\n",
       "            65.66666666666666,\n",
       "            67.53846153846155,\n",
       "            69.41025641025641,\n",
       "            71.28205128205128,\n",
       "            73.15384615384616,\n",
       "            75.02564102564102,\n",
       "            76.8974358974359,\n",
       "            78.76923076923077,\n",
       "            80.64102564102564,\n",
       "            82.51282051282051,\n",
       "            84.38461538461539,\n",
       "            86.25641025641026,\n",
       "            88.12820512820512,\n",
       "            90.0\n",
       "          ],\n",
       "          \"weights\": [\n",
       "            0.03481659117150724,\n",
       "            0.05737632116528999,\n",
       "            0.054800603961275424,\n",
       "            0.056665778488320453,\n",
       "            0.05231370459188205,\n",
       "            0.05462296829203304,\n",
       "            0.048050448530064835,\n",
       "            0.026734168220978773,\n",
       "            0.048583355537791986,\n",
       "            0.05071498356870059,\n",
       "            0.05000444089173106,\n",
       "            0.04591882049915623,\n",
       "            0.048050448530064835,\n",
       "            0.046185274003019805,\n",
       "            0.04325428546052047,\n",
       "            0.02238209432454037,\n",
       "            0.03899102939870326,\n",
       "            0.03375077715605294,\n",
       "            0.030375699440447643,\n",
       "            0.025224265032418508,\n",
       "            0.023625544009237054,\n",
       "            0.021316280309086066,\n",
       "            0.017497113420374813,\n",
       "            0.00826005861977085,\n",
       "            0.014477307043254286,\n",
       "            0.010480504485300648,\n",
       "            0.010036415312194688,\n",
       "            0.006927791100452971,\n",
       "            0.004796163069544364,\n",
       "            0.004263256061817213,\n",
       "            0.0024868993693933743,\n",
       "            0.0012434496846966871,\n",
       "            0.0015987210231814548,\n",
       "            0.0010658140154543032,\n",
       "            0.0015099031885602628,\n",
       "            0.0003552713384847677,\n",
       "            8.881783462119193e-05,\n",
       "            8.881783462119193e-05,\n",
       "            0.0010658140154543032\n",
       "          ]\n",
       "        }\n",
       "      },\n",
       "      \"expectation_type\": \"expect_column_bootstrapped_ks_test_p_value_to_be_greater_than\",\n",
       "      \"meta\": {}\n",
       "    },\n",
       "    {\n",
       "      \"kwargs\": {\n",
       "        \"column\": \"education\",\n",
       "        \"partition_object\": {\n",
       "          \"values\": [\n",
       "            \"HS-grad\",\n",
       "            \"Some-college\",\n",
       "            \"Bachelors\",\n",
       "            \"Masters\",\n",
       "            \"Assoc-voc\",\n",
       "            \"11th\",\n",
       "            \"Assoc-acdm\",\n",
       "            \"10th\",\n",
       "            \"7th-8th\",\n",
       "            \"9th\",\n",
       "            \"12th\",\n",
       "            \"Prof-school\",\n",
       "            \"Doctorate\",\n",
       "            \"5th-6th\",\n",
       "            \"1st-4th\",\n",
       "            \"Preschool\"\n",
       "          ],\n",
       "          \"weights\": [\n",
       "            0.31965538680166977,\n",
       "            0.2436273203659295,\n",
       "            0.1572075672795097,\n",
       "            0.05000444089173106,\n",
       "            0.04538591349142908,\n",
       "            0.03836930455635491,\n",
       "            0.035083044675370816,\n",
       "            0.027355893063327117,\n",
       "            0.016253663735678124,\n",
       "            0.015099031885602628,\n",
       "            0.013233857358557598,\n",
       "            0.012168043343103296,\n",
       "            0.010480504485300648,\n",
       "            0.009059419131361577,\n",
       "            0.005329070077271516,\n",
       "            0.0016875388578026468\n",
       "          ]\n",
       "        }\n",
       "      },\n",
       "      \"expectation_type\": \"expect_column_chisquare_test_p_value_to_be_greater_than\",\n",
       "      \"meta\": {}\n",
       "    },\n",
       "    {\n",
       "      \"kwargs\": {\n",
       "        \"column\": \"education-num\",\n",
       "        \"partition_object\": {\n",
       "          \"bins\": [\n",
       "            1.0,\n",
       "            2.5,\n",
       "            4.0,\n",
       "            5.5,\n",
       "            7.0,\n",
       "            8.5,\n",
       "            10.0,\n",
       "            11.5,\n",
       "            13.0,\n",
       "            14.5,\n",
       "            16.0\n",
       "          ],\n",
       "          \"weights\": [\n",
       "            0.007016608935074163,\n",
       "            0.009059419131361577,\n",
       "            0.031352695621280756,\n",
       "            0.027355893063327117,\n",
       "            0.051603161914912515,\n",
       "            0.31965538680166977,\n",
       "            0.28901323385735855,\n",
       "            0.035083044675370816,\n",
       "            0.20721200817124077,\n",
       "            0.022648547828403944\n",
       "          ]\n",
       "        }\n",
       "      },\n",
       "      \"expectation_type\": \"expect_column_bootstrapped_ks_test_p_value_to_be_greater_than\",\n",
       "      \"meta\": {}\n",
       "    },\n",
       "    {\n",
       "      \"kwargs\": {\n",
       "        \"column\": \"education-num\",\n",
       "        \"partition_object\": {\n",
       "          \"values\": [\n",
       "            9,\n",
       "            10,\n",
       "            13,\n",
       "            14,\n",
       "            11,\n",
       "            7,\n",
       "            12,\n",
       "            6,\n",
       "            4,\n",
       "            5,\n",
       "            8,\n",
       "            15,\n",
       "            16,\n",
       "            3,\n",
       "            2,\n",
       "            1\n",
       "          ],\n",
       "          \"weights\": [\n",
       "            0.31965538680166977,\n",
       "            0.2436273203659295,\n",
       "            0.1572075672795097,\n",
       "            0.05000444089173106,\n",
       "            0.04538591349142908,\n",
       "            0.03836930455635491,\n",
       "            0.035083044675370816,\n",
       "            0.027355893063327117,\n",
       "            0.016253663735678124,\n",
       "            0.015099031885602628,\n",
       "            0.013233857358557598,\n",
       "            0.012168043343103296,\n",
       "            0.010480504485300648,\n",
       "            0.009059419131361577,\n",
       "            0.005329070077271516,\n",
       "            0.0016875388578026468\n",
       "          ]\n",
       "        }\n",
       "      },\n",
       "      \"expectation_type\": \"expect_column_chisquare_test_p_value_to_be_greater_than\",\n",
       "      \"meta\": {}\n",
       "    }\n",
       "  ],\n",
       "  \"data_asset_type\": \"Dataset\",\n",
       "  \"meta\": {\n",
       "    \"great_expectations_version\": \"0.15.48\"\n",
       "  }\n",
       "}"
      ]
     },
     "execution_count": 29,
     "metadata": {},
     "output_type": "execute_result"
    }
   ],
   "source": [
    "df.get_expectation_suite()"
   ]
  },
  {
   "cell_type": "code",
   "execution_count": 30,
   "metadata": {
    "tags": []
   },
   "outputs": [],
   "source": [
    "from sklearn.preprocessing import OneHotEncoder, LabelEncoder\n",
    "from sklearn.ensemble import RandomForestClassifier"
   ]
  },
  {
   "cell_type": "code",
   "execution_count": 31,
   "metadata": {
    "tags": []
   },
   "outputs": [],
   "source": [
    "def build_transformer(df_train):\n",
    "    le = {}\n",
    "    ohe = OneHotEncoder()\n",
    "    X_cat = pd.DataFrame()\n",
    "    for cat_column in categorical_columns:\n",
    "        le[cat_column] = LabelEncoder()\n",
    "        X_cat[cat_column + \"_le\"] = le[cat_column].fit_transform(df_train[cat_column])\n",
    "    X_cat = ohe.fit_transform(X_cat)\n",
    "    X_train = np.append(X_cat.toarray(), df_train[continuous_columns], axis=1)\n",
    "    return le, ohe, X_train\n",
    "\n",
    "\n",
    "def apply_transformer(le, ohe, df_test):\n",
    "    X_cat = pd.DataFrame()\n",
    "    for cat_column in categorical_columns:\n",
    "        X_cat[cat_column + \"_le\"] = le[cat_column].transform(df_test[cat_column])\n",
    "    X_cat = ohe.transform(X_cat)\n",
    "    X_test = np.append(X_cat.toarray(), df_test[continuous_columns], axis=1)\n",
    "    return X_test"
   ]
  },
  {
   "cell_type": "code",
   "execution_count": 32,
   "metadata": {
    "tags": []
   },
   "outputs": [],
   "source": [
    "clf = RandomForestClassifier()"
   ]
  },
  {
   "cell_type": "code",
   "execution_count": 33,
   "metadata": {
    "tags": []
   },
   "outputs": [],
   "source": [
    "le, ohe, X_train = build_transformer(df)"
   ]
  },
  {
   "cell_type": "code",
   "execution_count": 34,
   "metadata": {
    "tags": []
   },
   "outputs": [
    {
     "data": {
      "text/html": [
       "<style>#sk-container-id-1 {color: black;background-color: white;}#sk-container-id-1 pre{padding: 0;}#sk-container-id-1 div.sk-toggleable {background-color: white;}#sk-container-id-1 label.sk-toggleable__label {cursor: pointer;display: block;width: 100%;margin-bottom: 0;padding: 0.3em;box-sizing: border-box;text-align: center;}#sk-container-id-1 label.sk-toggleable__label-arrow:before {content: \"▸\";float: left;margin-right: 0.25em;color: #696969;}#sk-container-id-1 label.sk-toggleable__label-arrow:hover:before {color: black;}#sk-container-id-1 div.sk-estimator:hover label.sk-toggleable__label-arrow:before {color: black;}#sk-container-id-1 div.sk-toggleable__content {max-height: 0;max-width: 0;overflow: hidden;text-align: left;background-color: #f0f8ff;}#sk-container-id-1 div.sk-toggleable__content pre {margin: 0.2em;color: black;border-radius: 0.25em;background-color: #f0f8ff;}#sk-container-id-1 input.sk-toggleable__control:checked~div.sk-toggleable__content {max-height: 200px;max-width: 100%;overflow: auto;}#sk-container-id-1 input.sk-toggleable__control:checked~label.sk-toggleable__label-arrow:before {content: \"▾\";}#sk-container-id-1 div.sk-estimator input.sk-toggleable__control:checked~label.sk-toggleable__label {background-color: #d4ebff;}#sk-container-id-1 div.sk-label input.sk-toggleable__control:checked~label.sk-toggleable__label {background-color: #d4ebff;}#sk-container-id-1 input.sk-hidden--visually {border: 0;clip: rect(1px 1px 1px 1px);clip: rect(1px, 1px, 1px, 1px);height: 1px;margin: -1px;overflow: hidden;padding: 0;position: absolute;width: 1px;}#sk-container-id-1 div.sk-estimator {font-family: monospace;background-color: #f0f8ff;border: 1px dotted black;border-radius: 0.25em;box-sizing: border-box;margin-bottom: 0.5em;}#sk-container-id-1 div.sk-estimator:hover {background-color: #d4ebff;}#sk-container-id-1 div.sk-parallel-item::after {content: \"\";width: 100%;border-bottom: 1px solid gray;flex-grow: 1;}#sk-container-id-1 div.sk-label:hover label.sk-toggleable__label {background-color: #d4ebff;}#sk-container-id-1 div.sk-serial::before {content: \"\";position: absolute;border-left: 1px solid gray;box-sizing: border-box;top: 0;bottom: 0;left: 50%;z-index: 0;}#sk-container-id-1 div.sk-serial {display: flex;flex-direction: column;align-items: center;background-color: white;padding-right: 0.2em;padding-left: 0.2em;position: relative;}#sk-container-id-1 div.sk-item {position: relative;z-index: 1;}#sk-container-id-1 div.sk-parallel {display: flex;align-items: stretch;justify-content: center;background-color: white;position: relative;}#sk-container-id-1 div.sk-item::before, #sk-container-id-1 div.sk-parallel-item::before {content: \"\";position: absolute;border-left: 1px solid gray;box-sizing: border-box;top: 0;bottom: 0;left: 50%;z-index: -1;}#sk-container-id-1 div.sk-parallel-item {display: flex;flex-direction: column;z-index: 1;position: relative;background-color: white;}#sk-container-id-1 div.sk-parallel-item:first-child::after {align-self: flex-end;width: 50%;}#sk-container-id-1 div.sk-parallel-item:last-child::after {align-self: flex-start;width: 50%;}#sk-container-id-1 div.sk-parallel-item:only-child::after {width: 0;}#sk-container-id-1 div.sk-dashed-wrapped {border: 1px dashed gray;margin: 0 0.4em 0.5em 0.4em;box-sizing: border-box;padding-bottom: 0.4em;background-color: white;}#sk-container-id-1 div.sk-label label {font-family: monospace;font-weight: bold;display: inline-block;line-height: 1.2em;}#sk-container-id-1 div.sk-label-container {text-align: center;}#sk-container-id-1 div.sk-container {/* jupyter's `normalize.less` sets `[hidden] { display: none; }` but bootstrap.min.css set `[hidden] { display: none !important; }` so we also need the `!important` here to be able to override the default hidden behavior on the sphinx rendered scikit-learn.org. See: https://github.com/scikit-learn/scikit-learn/issues/21755 */display: inline-block !important;position: relative;}#sk-container-id-1 div.sk-text-repr-fallback {display: none;}</style><div id=\"sk-container-id-1\" class=\"sk-top-container\"><div class=\"sk-text-repr-fallback\"><pre>RandomForestClassifier()</pre><b>In a Jupyter environment, please rerun this cell to show the HTML representation or trust the notebook. <br />On GitHub, the HTML representation is unable to render, please try loading this page with nbviewer.org.</b></div><div class=\"sk-container\" hidden><div class=\"sk-item\"><div class=\"sk-estimator sk-toggleable\"><input class=\"sk-toggleable__control sk-hidden--visually\" id=\"sk-estimator-id-1\" type=\"checkbox\" checked><label for=\"sk-estimator-id-1\" class=\"sk-toggleable__label sk-toggleable__label-arrow\">RandomForestClassifier</label><div class=\"sk-toggleable__content\"><pre>RandomForestClassifier()</pre></div></div></div></div></div>"
      ],
      "text/plain": [
       "RandomForestClassifier()"
      ]
     },
     "execution_count": 34,
     "metadata": {},
     "output_type": "execute_result"
    }
   ],
   "source": [
    "clf.fit(X_train, df[\"y\"])"
   ]
  },
  {
   "cell_type": "code",
   "execution_count": 35,
   "metadata": {
    "tags": []
   },
   "outputs": [
    {
     "data": {
      "text/plain": [
       "0.9999111821653788"
      ]
     },
     "execution_count": 35,
     "metadata": {},
     "output_type": "execute_result"
    }
   ],
   "source": [
    "clf.score(X_train, df[\"y\"])"
   ]
  },
  {
   "cell_type": "code",
   "execution_count": 36,
   "metadata": {
    "tags": []
   },
   "outputs": [],
   "source": [
    "my_expectations = df.get_expectation_suite()"
   ]
  },
  {
   "cell_type": "code",
   "execution_count": 37,
   "metadata": {
    "tags": []
   },
   "outputs": [
    {
     "data": {
      "text/plain": [
       "{\n",
       "  \"expectation_suite_name\": \"default\",\n",
       "  \"ge_cloud_id\": null,\n",
       "  \"expectations\": [\n",
       "    {\n",
       "      \"kwargs\": {\n",
       "        \"column\": \"sex\",\n",
       "        \"value_set\": [\n",
       "          \"Female\",\n",
       "          \"Male\"\n",
       "        ]\n",
       "      },\n",
       "      \"expectation_type\": \"expect_column_values_to_be_in_set\",\n",
       "      \"meta\": {}\n",
       "    },\n",
       "    {\n",
       "      \"kwargs\": {\n",
       "        \"column\": \"sex\",\n",
       "        \"partition_object\": {\n",
       "          \"values\": [\n",
       "            \"Female\",\n",
       "            \"Male\"\n",
       "          ],\n",
       "          \"weights\": [\n",
       "            0.6888711253219647,\n",
       "            0.31112887467803535\n",
       "          ]\n",
       "        }\n",
       "      },\n",
       "      \"expectation_type\": \"expect_column_chisquare_test_p_value_to_be_greater_than\",\n",
       "      \"meta\": {}\n",
       "    },\n",
       "    {\n",
       "      \"kwargs\": {\n",
       "        \"column\": \"age\",\n",
       "        \"partition_object\": {\n",
       "          \"bins\": [\n",
       "            17.0,\n",
       "            18.871794871794872,\n",
       "            20.743589743589745,\n",
       "            22.615384615384613,\n",
       "            24.48717948717949,\n",
       "            26.358974358974358,\n",
       "            28.23076923076923,\n",
       "            30.102564102564102,\n",
       "            31.974358974358974,\n",
       "            33.84615384615385,\n",
       "            35.717948717948715,\n",
       "            37.58974358974359,\n",
       "            39.46153846153846,\n",
       "            41.33333333333333,\n",
       "            43.205128205128204,\n",
       "            45.07692307692308,\n",
       "            46.94871794871795,\n",
       "            48.82051282051282,\n",
       "            50.69230769230769,\n",
       "            52.56410256410256,\n",
       "            54.43589743589744,\n",
       "            56.30769230769231,\n",
       "            58.17948717948718,\n",
       "            60.05128205128205,\n",
       "            61.92307692307692,\n",
       "            63.794871794871796,\n",
       "            65.66666666666666,\n",
       "            67.53846153846155,\n",
       "            69.41025641025641,\n",
       "            71.28205128205128,\n",
       "            73.15384615384616,\n",
       "            75.02564102564102,\n",
       "            76.8974358974359,\n",
       "            78.76923076923077,\n",
       "            80.64102564102564,\n",
       "            82.51282051282051,\n",
       "            84.38461538461539,\n",
       "            86.25641025641026,\n",
       "            88.12820512820512,\n",
       "            90.0\n",
       "          ],\n",
       "          \"weights\": [\n",
       "            0.03481659117150724,\n",
       "            0.05737632116528999,\n",
       "            0.054800603961275424,\n",
       "            0.056665778488320453,\n",
       "            0.05231370459188205,\n",
       "            0.05462296829203304,\n",
       "            0.048050448530064835,\n",
       "            0.026734168220978773,\n",
       "            0.048583355537791986,\n",
       "            0.05071498356870059,\n",
       "            0.05000444089173106,\n",
       "            0.04591882049915623,\n",
       "            0.048050448530064835,\n",
       "            0.046185274003019805,\n",
       "            0.04325428546052047,\n",
       "            0.02238209432454037,\n",
       "            0.03899102939870326,\n",
       "            0.03375077715605294,\n",
       "            0.030375699440447643,\n",
       "            0.025224265032418508,\n",
       "            0.023625544009237054,\n",
       "            0.021316280309086066,\n",
       "            0.017497113420374813,\n",
       "            0.00826005861977085,\n",
       "            0.014477307043254286,\n",
       "            0.010480504485300648,\n",
       "            0.010036415312194688,\n",
       "            0.006927791100452971,\n",
       "            0.004796163069544364,\n",
       "            0.004263256061817213,\n",
       "            0.0024868993693933743,\n",
       "            0.0012434496846966871,\n",
       "            0.0015987210231814548,\n",
       "            0.0010658140154543032,\n",
       "            0.0015099031885602628,\n",
       "            0.0003552713384847677,\n",
       "            8.881783462119193e-05,\n",
       "            8.881783462119193e-05,\n",
       "            0.0010658140154543032\n",
       "          ]\n",
       "        }\n",
       "      },\n",
       "      \"expectation_type\": \"expect_column_bootstrapped_ks_test_p_value_to_be_greater_than\",\n",
       "      \"meta\": {}\n",
       "    },\n",
       "    {\n",
       "      \"kwargs\": {\n",
       "        \"column\": \"education\",\n",
       "        \"partition_object\": {\n",
       "          \"values\": [\n",
       "            \"HS-grad\",\n",
       "            \"Some-college\",\n",
       "            \"Bachelors\",\n",
       "            \"Masters\",\n",
       "            \"Assoc-voc\",\n",
       "            \"11th\",\n",
       "            \"Assoc-acdm\",\n",
       "            \"10th\",\n",
       "            \"7th-8th\",\n",
       "            \"9th\",\n",
       "            \"12th\",\n",
       "            \"Prof-school\",\n",
       "            \"Doctorate\",\n",
       "            \"5th-6th\",\n",
       "            \"1st-4th\",\n",
       "            \"Preschool\"\n",
       "          ],\n",
       "          \"weights\": [\n",
       "            0.31965538680166977,\n",
       "            0.2436273203659295,\n",
       "            0.1572075672795097,\n",
       "            0.05000444089173106,\n",
       "            0.04538591349142908,\n",
       "            0.03836930455635491,\n",
       "            0.035083044675370816,\n",
       "            0.027355893063327117,\n",
       "            0.016253663735678124,\n",
       "            0.015099031885602628,\n",
       "            0.013233857358557598,\n",
       "            0.012168043343103296,\n",
       "            0.010480504485300648,\n",
       "            0.009059419131361577,\n",
       "            0.005329070077271516,\n",
       "            0.0016875388578026468\n",
       "          ]\n",
       "        }\n",
       "      },\n",
       "      \"expectation_type\": \"expect_column_chisquare_test_p_value_to_be_greater_than\",\n",
       "      \"meta\": {}\n",
       "    },\n",
       "    {\n",
       "      \"kwargs\": {\n",
       "        \"column\": \"education-num\",\n",
       "        \"partition_object\": {\n",
       "          \"bins\": [\n",
       "            1.0,\n",
       "            2.5,\n",
       "            4.0,\n",
       "            5.5,\n",
       "            7.0,\n",
       "            8.5,\n",
       "            10.0,\n",
       "            11.5,\n",
       "            13.0,\n",
       "            14.5,\n",
       "            16.0\n",
       "          ],\n",
       "          \"weights\": [\n",
       "            0.007016608935074163,\n",
       "            0.009059419131361577,\n",
       "            0.031352695621280756,\n",
       "            0.027355893063327117,\n",
       "            0.051603161914912515,\n",
       "            0.31965538680166977,\n",
       "            0.28901323385735855,\n",
       "            0.035083044675370816,\n",
       "            0.20721200817124077,\n",
       "            0.022648547828403944\n",
       "          ]\n",
       "        }\n",
       "      },\n",
       "      \"expectation_type\": \"expect_column_bootstrapped_ks_test_p_value_to_be_greater_than\",\n",
       "      \"meta\": {}\n",
       "    },\n",
       "    {\n",
       "      \"kwargs\": {\n",
       "        \"column\": \"education-num\",\n",
       "        \"partition_object\": {\n",
       "          \"values\": [\n",
       "            9,\n",
       "            10,\n",
       "            13,\n",
       "            14,\n",
       "            11,\n",
       "            7,\n",
       "            12,\n",
       "            6,\n",
       "            4,\n",
       "            5,\n",
       "            8,\n",
       "            15,\n",
       "            16,\n",
       "            3,\n",
       "            2,\n",
       "            1\n",
       "          ],\n",
       "          \"weights\": [\n",
       "            0.31965538680166977,\n",
       "            0.2436273203659295,\n",
       "            0.1572075672795097,\n",
       "            0.05000444089173106,\n",
       "            0.04538591349142908,\n",
       "            0.03836930455635491,\n",
       "            0.035083044675370816,\n",
       "            0.027355893063327117,\n",
       "            0.016253663735678124,\n",
       "            0.015099031885602628,\n",
       "            0.013233857358557598,\n",
       "            0.012168043343103296,\n",
       "            0.010480504485300648,\n",
       "            0.009059419131361577,\n",
       "            0.005329070077271516,\n",
       "            0.0016875388578026468\n",
       "          ]\n",
       "        }\n",
       "      },\n",
       "      \"expectation_type\": \"expect_column_chisquare_test_p_value_to_be_greater_than\",\n",
       "      \"meta\": {}\n",
       "    }\n",
       "  ],\n",
       "  \"data_asset_type\": \"Dataset\",\n",
       "  \"meta\": {\n",
       "    \"great_expectations_version\": \"0.15.48\"\n",
       "  }\n",
       "}"
      ]
     },
     "execution_count": 37,
     "metadata": {},
     "output_type": "execute_result"
    }
   ],
   "source": [
    "my_expectations"
   ]
  },
  {
   "cell_type": "code",
   "execution_count": 38,
   "metadata": {
    "tags": []
   },
   "outputs": [
    {
     "data": {
      "text/plain": [
       "{\n",
       "  \"results\": [\n",
       "    {\n",
       "      \"result\": {\n",
       "        \"element_count\": 2851,\n",
       "        \"missing_count\": 0,\n",
       "        \"missing_percent\": 0.0,\n",
       "        \"unexpected_count\": 0,\n",
       "        \"unexpected_percent\": 0.0,\n",
       "        \"unexpected_percent_total\": 0.0,\n",
       "        \"unexpected_percent_nonmissing\": 0.0,\n",
       "        \"partial_unexpected_list\": []\n",
       "      },\n",
       "      \"exception_info\": {\n",
       "        \"raised_exception\": false,\n",
       "        \"exception_message\": null,\n",
       "        \"exception_traceback\": null\n",
       "      },\n",
       "      \"success\": true,\n",
       "      \"expectation_config\": {\n",
       "        \"kwargs\": {\n",
       "          \"column\": \"sex\",\n",
       "          \"value_set\": [\n",
       "            \"Female\",\n",
       "            \"Male\"\n",
       "          ]\n",
       "        },\n",
       "        \"expectation_type\": \"expect_column_values_to_be_in_set\",\n",
       "        \"meta\": {}\n",
       "      },\n",
       "      \"meta\": {}\n",
       "    },\n",
       "    {\n",
       "      \"result\": {\n",
       "        \"observed_value\": 0.5182046382338577,\n",
       "        \"element_count\": 2851,\n",
       "        \"missing_count\": null,\n",
       "        \"missing_percent\": null\n",
       "      },\n",
       "      \"exception_info\": {\n",
       "        \"raised_exception\": false,\n",
       "        \"exception_message\": null,\n",
       "        \"exception_traceback\": null\n",
       "      },\n",
       "      \"success\": true,\n",
       "      \"expectation_config\": {\n",
       "        \"kwargs\": {\n",
       "          \"column\": \"sex\",\n",
       "          \"partition_object\": {\n",
       "            \"values\": [\n",
       "              \"Female\",\n",
       "              \"Male\"\n",
       "            ],\n",
       "            \"weights\": [\n",
       "              0.6888711253219647,\n",
       "              0.31112887467803535\n",
       "            ]\n",
       "          }\n",
       "        },\n",
       "        \"expectation_type\": \"expect_column_chisquare_test_p_value_to_be_greater_than\",\n",
       "        \"meta\": {}\n",
       "      },\n",
       "      \"meta\": {}\n",
       "    },\n",
       "    {\n",
       "      \"result\": {\n",
       "        \"observed_value\": 0.9010989010989011,\n",
       "        \"element_count\": 2851,\n",
       "        \"missing_count\": null,\n",
       "        \"missing_percent\": null\n",
       "      },\n",
       "      \"exception_info\": {\n",
       "        \"raised_exception\": false,\n",
       "        \"exception_message\": null,\n",
       "        \"exception_traceback\": null\n",
       "      },\n",
       "      \"success\": true,\n",
       "      \"expectation_config\": {\n",
       "        \"kwargs\": {\n",
       "          \"column\": \"age\",\n",
       "          \"partition_object\": {\n",
       "            \"bins\": [\n",
       "              17.0,\n",
       "              18.871794871794872,\n",
       "              20.743589743589745,\n",
       "              22.615384615384613,\n",
       "              24.48717948717949,\n",
       "              26.358974358974358,\n",
       "              28.23076923076923,\n",
       "              30.102564102564102,\n",
       "              31.974358974358974,\n",
       "              33.84615384615385,\n",
       "              35.717948717948715,\n",
       "              37.58974358974359,\n",
       "              39.46153846153846,\n",
       "              41.33333333333333,\n",
       "              43.205128205128204,\n",
       "              45.07692307692308,\n",
       "              46.94871794871795,\n",
       "              48.82051282051282,\n",
       "              50.69230769230769,\n",
       "              52.56410256410256,\n",
       "              54.43589743589744,\n",
       "              56.30769230769231,\n",
       "              58.17948717948718,\n",
       "              60.05128205128205,\n",
       "              61.92307692307692,\n",
       "              63.794871794871796,\n",
       "              65.66666666666666,\n",
       "              67.53846153846155,\n",
       "              69.41025641025641,\n",
       "              71.28205128205128,\n",
       "              73.15384615384616,\n",
       "              75.02564102564102,\n",
       "              76.8974358974359,\n",
       "              78.76923076923077,\n",
       "              80.64102564102564,\n",
       "              82.51282051282051,\n",
       "              84.38461538461539,\n",
       "              86.25641025641026,\n",
       "              88.12820512820512,\n",
       "              90.0\n",
       "            ],\n",
       "            \"weights\": [\n",
       "              0.03481659117150724,\n",
       "              0.05737632116528999,\n",
       "              0.054800603961275424,\n",
       "              0.056665778488320453,\n",
       "              0.05231370459188205,\n",
       "              0.05462296829203304,\n",
       "              0.048050448530064835,\n",
       "              0.026734168220978773,\n",
       "              0.048583355537791986,\n",
       "              0.05071498356870059,\n",
       "              0.05000444089173106,\n",
       "              0.04591882049915623,\n",
       "              0.048050448530064835,\n",
       "              0.046185274003019805,\n",
       "              0.04325428546052047,\n",
       "              0.02238209432454037,\n",
       "              0.03899102939870326,\n",
       "              0.03375077715605294,\n",
       "              0.030375699440447643,\n",
       "              0.025224265032418508,\n",
       "              0.023625544009237054,\n",
       "              0.021316280309086066,\n",
       "              0.017497113420374813,\n",
       "              0.00826005861977085,\n",
       "              0.014477307043254286,\n",
       "              0.010480504485300648,\n",
       "              0.010036415312194688,\n",
       "              0.006927791100452971,\n",
       "              0.004796163069544364,\n",
       "              0.004263256061817213,\n",
       "              0.0024868993693933743,\n",
       "              0.0012434496846966871,\n",
       "              0.0015987210231814548,\n",
       "              0.0010658140154543032,\n",
       "              0.0015099031885602628,\n",
       "              0.0003552713384847677,\n",
       "              8.881783462119193e-05,\n",
       "              8.881783462119193e-05,\n",
       "              0.0010658140154543032\n",
       "            ]\n",
       "          }\n",
       "        },\n",
       "        \"expectation_type\": \"expect_column_bootstrapped_ks_test_p_value_to_be_greater_than\",\n",
       "        \"meta\": {}\n",
       "      },\n",
       "      \"meta\": {}\n",
       "    },\n",
       "    {\n",
       "      \"result\": {\n",
       "        \"observed_value\": 0.18419588995064165,\n",
       "        \"element_count\": 2851,\n",
       "        \"missing_count\": null,\n",
       "        \"missing_percent\": null\n",
       "      },\n",
       "      \"exception_info\": {\n",
       "        \"raised_exception\": false,\n",
       "        \"exception_message\": null,\n",
       "        \"exception_traceback\": null\n",
       "      },\n",
       "      \"success\": true,\n",
       "      \"expectation_config\": {\n",
       "        \"kwargs\": {\n",
       "          \"column\": \"education\",\n",
       "          \"partition_object\": {\n",
       "            \"values\": [\n",
       "              \"HS-grad\",\n",
       "              \"Some-college\",\n",
       "              \"Bachelors\",\n",
       "              \"Masters\",\n",
       "              \"Assoc-voc\",\n",
       "              \"11th\",\n",
       "              \"Assoc-acdm\",\n",
       "              \"10th\",\n",
       "              \"7th-8th\",\n",
       "              \"9th\",\n",
       "              \"12th\",\n",
       "              \"Prof-school\",\n",
       "              \"Doctorate\",\n",
       "              \"5th-6th\",\n",
       "              \"1st-4th\",\n",
       "              \"Preschool\"\n",
       "            ],\n",
       "            \"weights\": [\n",
       "              0.31965538680166977,\n",
       "              0.2436273203659295,\n",
       "              0.1572075672795097,\n",
       "              0.05000444089173106,\n",
       "              0.04538591349142908,\n",
       "              0.03836930455635491,\n",
       "              0.035083044675370816,\n",
       "              0.027355893063327117,\n",
       "              0.016253663735678124,\n",
       "              0.015099031885602628,\n",
       "              0.013233857358557598,\n",
       "              0.012168043343103296,\n",
       "              0.010480504485300648,\n",
       "              0.009059419131361577,\n",
       "              0.005329070077271516,\n",
       "              0.0016875388578026468\n",
       "            ]\n",
       "          }\n",
       "        },\n",
       "        \"expectation_type\": \"expect_column_chisquare_test_p_value_to_be_greater_than\",\n",
       "        \"meta\": {}\n",
       "      },\n",
       "      \"meta\": {}\n",
       "    },\n",
       "    {\n",
       "      \"result\": {\n",
       "        \"observed_value\": 0.5504495504495505,\n",
       "        \"element_count\": 2851,\n",
       "        \"missing_count\": null,\n",
       "        \"missing_percent\": null\n",
       "      },\n",
       "      \"exception_info\": {\n",
       "        \"raised_exception\": false,\n",
       "        \"exception_message\": null,\n",
       "        \"exception_traceback\": null\n",
       "      },\n",
       "      \"success\": true,\n",
       "      \"expectation_config\": {\n",
       "        \"kwargs\": {\n",
       "          \"column\": \"education-num\",\n",
       "          \"partition_object\": {\n",
       "            \"bins\": [\n",
       "              1.0,\n",
       "              2.5,\n",
       "              4.0,\n",
       "              5.5,\n",
       "              7.0,\n",
       "              8.5,\n",
       "              10.0,\n",
       "              11.5,\n",
       "              13.0,\n",
       "              14.5,\n",
       "              16.0\n",
       "            ],\n",
       "            \"weights\": [\n",
       "              0.007016608935074163,\n",
       "              0.009059419131361577,\n",
       "              0.031352695621280756,\n",
       "              0.027355893063327117,\n",
       "              0.051603161914912515,\n",
       "              0.31965538680166977,\n",
       "              0.28901323385735855,\n",
       "              0.035083044675370816,\n",
       "              0.20721200817124077,\n",
       "              0.022648547828403944\n",
       "            ]\n",
       "          }\n",
       "        },\n",
       "        \"expectation_type\": \"expect_column_bootstrapped_ks_test_p_value_to_be_greater_than\",\n",
       "        \"meta\": {}\n",
       "      },\n",
       "      \"meta\": {}\n",
       "    },\n",
       "    {\n",
       "      \"result\": {\n",
       "        \"observed_value\": 0.18419588995064165,\n",
       "        \"element_count\": 2851,\n",
       "        \"missing_count\": null,\n",
       "        \"missing_percent\": null\n",
       "      },\n",
       "      \"exception_info\": {\n",
       "        \"raised_exception\": false,\n",
       "        \"exception_message\": null,\n",
       "        \"exception_traceback\": null\n",
       "      },\n",
       "      \"success\": true,\n",
       "      \"expectation_config\": {\n",
       "        \"kwargs\": {\n",
       "          \"column\": \"education-num\",\n",
       "          \"partition_object\": {\n",
       "            \"values\": [\n",
       "              9,\n",
       "              10,\n",
       "              13,\n",
       "              14,\n",
       "              11,\n",
       "              7,\n",
       "              12,\n",
       "              6,\n",
       "              4,\n",
       "              5,\n",
       "              8,\n",
       "              15,\n",
       "              16,\n",
       "              3,\n",
       "              2,\n",
       "              1\n",
       "            ],\n",
       "            \"weights\": [\n",
       "              0.31965538680166977,\n",
       "              0.2436273203659295,\n",
       "              0.1572075672795097,\n",
       "              0.05000444089173106,\n",
       "              0.04538591349142908,\n",
       "              0.03836930455635491,\n",
       "              0.035083044675370816,\n",
       "              0.027355893063327117,\n",
       "              0.016253663735678124,\n",
       "              0.015099031885602628,\n",
       "              0.013233857358557598,\n",
       "              0.012168043343103296,\n",
       "              0.010480504485300648,\n",
       "              0.009059419131361577,\n",
       "              0.005329070077271516,\n",
       "              0.0016875388578026468\n",
       "            ]\n",
       "          }\n",
       "        },\n",
       "        \"expectation_type\": \"expect_column_chisquare_test_p_value_to_be_greater_than\",\n",
       "        \"meta\": {}\n",
       "      },\n",
       "      \"meta\": {}\n",
       "    }\n",
       "  ],\n",
       "  \"success\": true,\n",
       "  \"statistics\": {\n",
       "    \"evaluated_expectations\": 6,\n",
       "    \"successful_expectations\": 6,\n",
       "    \"unsuccessful_expectations\": 0,\n",
       "    \"success_percent\": 100.0\n",
       "  },\n",
       "  \"evaluation_parameters\": {},\n",
       "  \"meta\": {\n",
       "    \"great_expectations_version\": \"0.15.48\",\n",
       "    \"expectation_suite_name\": \"default\",\n",
       "    \"run_id\": {\n",
       "      \"run_time\": \"2023-02-13T22:32:25.033576+00:00\",\n",
       "      \"run_name\": null\n",
       "    },\n",
       "    \"batch_kwargs\": {\n",
       "      \"ge_batch_id\": \"d87d7bdc-abed-11ed-a4bd-acde48001122\"\n",
       "    },\n",
       "    \"batch_markers\": {},\n",
       "    \"batch_parameters\": {},\n",
       "    \"validation_time\": \"20230213T223225.033508Z\",\n",
       "    \"expectation_suite_meta\": {\n",
       "      \"great_expectations_version\": \"0.15.48\"\n",
       "    }\n",
       "  }\n",
       "}"
      ]
     },
     "execution_count": 38,
     "metadata": {},
     "output_type": "execute_result"
    }
   ],
   "source": [
    "results = df_test.validate(expectation_suite=my_expectations)\n",
    "results"
   ]
  },
  {
   "cell_type": "code",
   "execution_count": 39,
   "metadata": {
    "tags": []
   },
   "outputs": [
    {
     "data": {
      "text/plain": [
       "{\n",
       "  \"results\": [],\n",
       "  \"success\": true,\n",
       "  \"statistics\": {\n",
       "    \"evaluated_expectations\": 6,\n",
       "    \"successful_expectations\": 6,\n",
       "    \"unsuccessful_expectations\": 0,\n",
       "    \"success_percent\": 100.0\n",
       "  },\n",
       "  \"evaluation_parameters\": {},\n",
       "  \"meta\": {\n",
       "    \"great_expectations_version\": \"0.15.48\",\n",
       "    \"expectation_suite_name\": \"default\",\n",
       "    \"run_id\": {\n",
       "      \"run_time\": \"2023-02-13T22:32:27.251111+00:00\",\n",
       "      \"run_name\": null\n",
       "    },\n",
       "    \"batch_kwargs\": {\n",
       "      \"ge_batch_id\": \"d87d7bdc-abed-11ed-a4bd-acde48001122\"\n",
       "    },\n",
       "    \"batch_markers\": {},\n",
       "    \"batch_parameters\": {},\n",
       "    \"validation_time\": \"20230213T223227.251016Z\",\n",
       "    \"expectation_suite_meta\": {\n",
       "      \"great_expectations_version\": \"0.15.48\"\n",
       "    }\n",
       "  }\n",
       "}"
      ]
     },
     "execution_count": 39,
     "metadata": {},
     "output_type": "execute_result"
    }
   ],
   "source": [
    "failures = df_test.validate(\n",
    "    expectation_suite=my_expectations, only_return_failures=True\n",
    ")\n",
    "failures"
   ]
  },
  {
   "cell_type": "code",
   "execution_count": 40,
   "metadata": {
    "tags": []
   },
   "outputs": [],
   "source": [
    "X_test = apply_transformer(le, ohe, df_test)"
   ]
  },
  {
   "cell_type": "code",
   "execution_count": 41,
   "metadata": {
    "tags": []
   },
   "outputs": [
    {
     "data": {
      "text/plain": [
       "0.8937215012276394"
      ]
     },
     "execution_count": 41,
     "metadata": {},
     "output_type": "execute_result"
    }
   ],
   "source": [
    "clf.score(X_test, df_test[\"y\"])"
   ]
  },
  {
   "cell_type": "code",
   "execution_count": 42,
   "metadata": {
    "tags": []
   },
   "outputs": [],
   "source": [
    "df_test_2 = gx.read_csv(\"../data/adult.data.b_1_train.csv\")\n",
    "strip_spaces(df_test_2)\n",
    "# df_test_2 = df_test_2[df_test_2['native-country'] != 'Holand-Netherlands']\n",
    "df_test_2[\"y\"] = df_test_2[\"<=50k\"].apply(lambda x: 0 if (x == \"<=50K\") else 1)\n",
    "X_test_2 = apply_transformer(le, ohe, df_test_2)"
   ]
  },
  {
   "cell_type": "code",
   "execution_count": 43,
   "metadata": {
    "tags": []
   },
   "outputs": [
    {
     "data": {
      "text/plain": [
       "0.8193844492440605"
      ]
     },
     "execution_count": 43,
     "metadata": {},
     "output_type": "execute_result"
    }
   ],
   "source": [
    "clf.score(X_test_2, df_test_2[\"y\"])"
   ]
  },
  {
   "cell_type": "code",
   "execution_count": 44,
   "metadata": {
    "tags": []
   },
   "outputs": [],
   "source": [
    "# Health Screening: Preventative Checkup!"
   ]
  },
  {
   "cell_type": "code",
   "execution_count": 45,
   "metadata": {
    "tags": []
   },
   "outputs": [
    {
     "data": {
      "text/plain": [
       "{\n",
       "  \"results\": [\n",
       "    {\n",
       "      \"result\": {\n",
       "        \"observed_value\": 0.0,\n",
       "        \"element_count\": 14816,\n",
       "        \"missing_count\": null,\n",
       "        \"missing_percent\": null\n",
       "      },\n",
       "      \"exception_info\": {\n",
       "        \"raised_exception\": false,\n",
       "        \"exception_message\": null,\n",
       "        \"exception_traceback\": null\n",
       "      },\n",
       "      \"success\": false,\n",
       "      \"expectation_config\": {\n",
       "        \"kwargs\": {\n",
       "          \"column\": \"sex\",\n",
       "          \"partition_object\": {\n",
       "            \"values\": [\n",
       "              \"Female\",\n",
       "              \"Male\"\n",
       "            ],\n",
       "            \"weights\": [\n",
       "              0.6888711253219647,\n",
       "              0.31112887467803535\n",
       "            ]\n",
       "          }\n",
       "        },\n",
       "        \"expectation_type\": \"expect_column_chisquare_test_p_value_to_be_greater_than\",\n",
       "        \"meta\": {}\n",
       "      },\n",
       "      \"meta\": {}\n",
       "    },\n",
       "    {\n",
       "      \"result\": {\n",
       "        \"observed_value\": 3.063465345982163e-48,\n",
       "        \"element_count\": 14816,\n",
       "        \"missing_count\": null,\n",
       "        \"missing_percent\": null\n",
       "      },\n",
       "      \"exception_info\": {\n",
       "        \"raised_exception\": false,\n",
       "        \"exception_message\": null,\n",
       "        \"exception_traceback\": null\n",
       "      },\n",
       "      \"success\": false,\n",
       "      \"expectation_config\": {\n",
       "        \"kwargs\": {\n",
       "          \"column\": \"education\",\n",
       "          \"partition_object\": {\n",
       "            \"values\": [\n",
       "              \"HS-grad\",\n",
       "              \"Some-college\",\n",
       "              \"Bachelors\",\n",
       "              \"Masters\",\n",
       "              \"Assoc-voc\",\n",
       "              \"11th\",\n",
       "              \"Assoc-acdm\",\n",
       "              \"10th\",\n",
       "              \"7th-8th\",\n",
       "              \"9th\",\n",
       "              \"12th\",\n",
       "              \"Prof-school\",\n",
       "              \"Doctorate\",\n",
       "              \"5th-6th\",\n",
       "              \"1st-4th\",\n",
       "              \"Preschool\"\n",
       "            ],\n",
       "            \"weights\": [\n",
       "              0.31965538680166977,\n",
       "              0.2436273203659295,\n",
       "              0.1572075672795097,\n",
       "              0.05000444089173106,\n",
       "              0.04538591349142908,\n",
       "              0.03836930455635491,\n",
       "              0.035083044675370816,\n",
       "              0.027355893063327117,\n",
       "              0.016253663735678124,\n",
       "              0.015099031885602628,\n",
       "              0.013233857358557598,\n",
       "              0.012168043343103296,\n",
       "              0.010480504485300648,\n",
       "              0.009059419131361577,\n",
       "              0.005329070077271516,\n",
       "              0.0016875388578026468\n",
       "            ]\n",
       "          }\n",
       "        },\n",
       "        \"expectation_type\": \"expect_column_chisquare_test_p_value_to_be_greater_than\",\n",
       "        \"meta\": {}\n",
       "      },\n",
       "      \"meta\": {}\n",
       "    },\n",
       "    {\n",
       "      \"result\": {\n",
       "        \"observed_value\": 3.063465345982163e-48,\n",
       "        \"element_count\": 14816,\n",
       "        \"missing_count\": null,\n",
       "        \"missing_percent\": null\n",
       "      },\n",
       "      \"exception_info\": {\n",
       "        \"raised_exception\": false,\n",
       "        \"exception_message\": null,\n",
       "        \"exception_traceback\": null\n",
       "      },\n",
       "      \"success\": false,\n",
       "      \"expectation_config\": {\n",
       "        \"kwargs\": {\n",
       "          \"column\": \"education-num\",\n",
       "          \"partition_object\": {\n",
       "            \"values\": [\n",
       "              9,\n",
       "              10,\n",
       "              13,\n",
       "              14,\n",
       "              11,\n",
       "              7,\n",
       "              12,\n",
       "              6,\n",
       "              4,\n",
       "              5,\n",
       "              8,\n",
       "              15,\n",
       "              16,\n",
       "              3,\n",
       "              2,\n",
       "              1\n",
       "            ],\n",
       "            \"weights\": [\n",
       "              0.31965538680166977,\n",
       "              0.2436273203659295,\n",
       "              0.1572075672795097,\n",
       "              0.05000444089173106,\n",
       "              0.04538591349142908,\n",
       "              0.03836930455635491,\n",
       "              0.035083044675370816,\n",
       "              0.027355893063327117,\n",
       "              0.016253663735678124,\n",
       "              0.015099031885602628,\n",
       "              0.013233857358557598,\n",
       "              0.012168043343103296,\n",
       "              0.010480504485300648,\n",
       "              0.009059419131361577,\n",
       "              0.005329070077271516,\n",
       "              0.0016875388578026468\n",
       "            ]\n",
       "          }\n",
       "        },\n",
       "        \"expectation_type\": \"expect_column_chisquare_test_p_value_to_be_greater_than\",\n",
       "        \"meta\": {}\n",
       "      },\n",
       "      \"meta\": {}\n",
       "    }\n",
       "  ],\n",
       "  \"success\": false,\n",
       "  \"statistics\": {\n",
       "    \"evaluated_expectations\": 6,\n",
       "    \"successful_expectations\": 3,\n",
       "    \"unsuccessful_expectations\": 3,\n",
       "    \"success_percent\": 50.0\n",
       "  },\n",
       "  \"evaluation_parameters\": {},\n",
       "  \"meta\": {\n",
       "    \"great_expectations_version\": \"0.15.48\",\n",
       "    \"expectation_suite_name\": \"default\",\n",
       "    \"run_id\": {\n",
       "      \"run_time\": \"2023-02-13T22:32:35.429605+00:00\",\n",
       "      \"run_name\": null\n",
       "    },\n",
       "    \"batch_kwargs\": {\n",
       "      \"ge_batch_id\": \"4ca8818c-abee-11ed-a4bd-acde48001122\"\n",
       "    },\n",
       "    \"batch_markers\": {},\n",
       "    \"batch_parameters\": {},\n",
       "    \"validation_time\": \"20230213T223235.429547Z\",\n",
       "    \"expectation_suite_meta\": {\n",
       "      \"great_expectations_version\": \"0.15.48\"\n",
       "    }\n",
       "  }\n",
       "}"
      ]
     },
     "execution_count": 45,
     "metadata": {},
     "output_type": "execute_result"
    }
   ],
   "source": [
    "failures = df_test_2.validate(my_expectations, only_return_failures=True)\n",
    "failures"
   ]
  },
  {
   "cell_type": "code",
   "execution_count": 46,
   "metadata": {
    "scrolled": true,
    "tags": []
   },
   "outputs": [
    {
     "data": {
      "text/plain": [
       "<AxesSubplot: >"
      ]
     },
     "execution_count": 46,
     "metadata": {},
     "output_type": "execute_result"
    },
    {
     "data": {
      "image/png": "[encoded data removed]",
      "text/plain": [
       "<Figure size 640x480 with 1 Axes>"
      ]
     },
     "metadata": {},
     "output_type": "display_data"
    }
   ],
   "source": [
    "df_test_2[\"sex\"].value_counts().plot(kind=\"bar\")"
   ]
  },
  {
   "cell_type": "code",
   "execution_count": 47,
   "metadata": {
    "tags": []
   },
   "outputs": [],
   "source": [
    "df_test_3 = gx.read_csv(\"../data/adult.data.b_1_test.csv\")\n",
    "strip_spaces(df_test_3)\n",
    "# df_test_3 = df_test_3[df_test_3['native-country'] != 'Holand-Netherlands']\n",
    "df_test_3[\"y\"] = df_test_3[\"<=50k\"].apply(lambda x: 0 if (x == \"<=50K\") else 1)\n",
    "X_test_3 = apply_transformer(le, ohe, df_test_3)"
   ]
  },
  {
   "cell_type": "code",
   "execution_count": 48,
   "metadata": {
    "tags": []
   },
   "outputs": [
    {
     "data": {
      "text/plain": [
       "0.8151306740027511"
      ]
     },
     "execution_count": 48,
     "metadata": {},
     "output_type": "execute_result"
    }
   ],
   "source": [
    "clf.score(X_test_3, df_test_3[\"y\"])"
   ]
  },
  {
   "cell_type": "code",
   "execution_count": 49,
   "metadata": {
    "tags": []
   },
   "outputs": [],
   "source": [
    "# What could have gone wrong?\n",
    "#\n",
    "# a. The world changed.\n",
    "# b. New sensor means different data.\n",
    "# c. Bueller? Bueller?\n",
    "# d. Biased sample of the data"
   ]
  },
  {
   "cell_type": "code",
   "execution_count": 50,
   "metadata": {
    "tags": []
   },
   "outputs": [
    {
     "data": {
      "text/plain": [
       "{\n",
       "  \"results\": [\n",
       "    {\n",
       "      \"result\": {\n",
       "        \"observed_value\": 0.0,\n",
       "        \"element_count\": 14816,\n",
       "        \"missing_count\": null,\n",
       "        \"missing_percent\": null\n",
       "      },\n",
       "      \"exception_info\": {\n",
       "        \"raised_exception\": false,\n",
       "        \"exception_message\": null,\n",
       "        \"exception_traceback\": null\n",
       "      },\n",
       "      \"success\": false,\n",
       "      \"expectation_config\": {\n",
       "        \"kwargs\": {\n",
       "          \"column\": \"sex\",\n",
       "          \"partition_object\": {\n",
       "            \"values\": [\n",
       "              \"Female\",\n",
       "              \"Male\"\n",
       "            ],\n",
       "            \"weights\": [\n",
       "              0.6888711253219647,\n",
       "              0.31112887467803535\n",
       "            ]\n",
       "          }\n",
       "        },\n",
       "        \"expectation_type\": \"expect_column_chisquare_test_p_value_to_be_greater_than\",\n",
       "        \"meta\": {}\n",
       "      },\n",
       "      \"meta\": {}\n",
       "    },\n",
       "    {\n",
       "      \"result\": {\n",
       "        \"observed_value\": 3.063465345982163e-48,\n",
       "        \"element_count\": 14816,\n",
       "        \"missing_count\": null,\n",
       "        \"missing_percent\": null\n",
       "      },\n",
       "      \"exception_info\": {\n",
       "        \"raised_exception\": false,\n",
       "        \"exception_message\": null,\n",
       "        \"exception_traceback\": null\n",
       "      },\n",
       "      \"success\": false,\n",
       "      \"expectation_config\": {\n",
       "        \"kwargs\": {\n",
       "          \"column\": \"education\",\n",
       "          \"partition_object\": {\n",
       "            \"values\": [\n",
       "              \"HS-grad\",\n",
       "              \"Some-college\",\n",
       "              \"Bachelors\",\n",
       "              \"Masters\",\n",
       "              \"Assoc-voc\",\n",
       "              \"11th\",\n",
       "              \"Assoc-acdm\",\n",
       "              \"10th\",\n",
       "              \"7th-8th\",\n",
       "              \"9th\",\n",
       "              \"12th\",\n",
       "              \"Prof-school\",\n",
       "              \"Doctorate\",\n",
       "              \"5th-6th\",\n",
       "              \"1st-4th\",\n",
       "              \"Preschool\"\n",
       "            ],\n",
       "            \"weights\": [\n",
       "              0.31965538680166977,\n",
       "              0.2436273203659295,\n",
       "              0.1572075672795097,\n",
       "              0.05000444089173106,\n",
       "              0.04538591349142908,\n",
       "              0.03836930455635491,\n",
       "              0.035083044675370816,\n",
       "              0.027355893063327117,\n",
       "              0.016253663735678124,\n",
       "              0.015099031885602628,\n",
       "              0.013233857358557598,\n",
       "              0.012168043343103296,\n",
       "              0.010480504485300648,\n",
       "              0.009059419131361577,\n",
       "              0.005329070077271516,\n",
       "              0.0016875388578026468\n",
       "            ]\n",
       "          }\n",
       "        },\n",
       "        \"expectation_type\": \"expect_column_chisquare_test_p_value_to_be_greater_than\",\n",
       "        \"meta\": {}\n",
       "      },\n",
       "      \"meta\": {}\n",
       "    },\n",
       "    {\n",
       "      \"result\": {\n",
       "        \"observed_value\": 3.063465345982163e-48,\n",
       "        \"element_count\": 14816,\n",
       "        \"missing_count\": null,\n",
       "        \"missing_percent\": null\n",
       "      },\n",
       "      \"exception_info\": {\n",
       "        \"raised_exception\": false,\n",
       "        \"exception_message\": null,\n",
       "        \"exception_traceback\": null\n",
       "      },\n",
       "      \"success\": false,\n",
       "      \"expectation_config\": {\n",
       "        \"kwargs\": {\n",
       "          \"column\": \"education-num\",\n",
       "          \"partition_object\": {\n",
       "            \"values\": [\n",
       "              9,\n",
       "              10,\n",
       "              13,\n",
       "              14,\n",
       "              11,\n",
       "              7,\n",
       "              12,\n",
       "              6,\n",
       "              4,\n",
       "              5,\n",
       "              8,\n",
       "              15,\n",
       "              16,\n",
       "              3,\n",
       "              2,\n",
       "              1\n",
       "            ],\n",
       "            \"weights\": [\n",
       "              0.31965538680166977,\n",
       "              0.2436273203659295,\n",
       "              0.1572075672795097,\n",
       "              0.05000444089173106,\n",
       "              0.04538591349142908,\n",
       "              0.03836930455635491,\n",
       "              0.035083044675370816,\n",
       "              0.027355893063327117,\n",
       "              0.016253663735678124,\n",
       "              0.015099031885602628,\n",
       "              0.013233857358557598,\n",
       "              0.012168043343103296,\n",
       "              0.010480504485300648,\n",
       "              0.009059419131361577,\n",
       "              0.005329070077271516,\n",
       "              0.0016875388578026468\n",
       "            ]\n",
       "          }\n",
       "        },\n",
       "        \"expectation_type\": \"expect_column_chisquare_test_p_value_to_be_greater_than\",\n",
       "        \"meta\": {}\n",
       "      },\n",
       "      \"meta\": {}\n",
       "    }\n",
       "  ],\n",
       "  \"success\": false,\n",
       "  \"statistics\": {\n",
       "    \"evaluated_expectations\": 6,\n",
       "    \"successful_expectations\": 3,\n",
       "    \"unsuccessful_expectations\": 3,\n",
       "    \"success_percent\": 50.0\n",
       "  },\n",
       "  \"evaluation_parameters\": {},\n",
       "  \"meta\": {\n",
       "    \"great_expectations_version\": \"0.15.48\",\n",
       "    \"expectation_suite_name\": \"default\",\n",
       "    \"run_id\": {\n",
       "      \"run_time\": \"2023-02-13T22:32:35.429605+00:00\",\n",
       "      \"run_name\": null\n",
       "    },\n",
       "    \"batch_kwargs\": {\n",
       "      \"ge_batch_id\": \"4ca8818c-abee-11ed-a4bd-acde48001122\"\n",
       "    },\n",
       "    \"batch_markers\": {},\n",
       "    \"batch_parameters\": {},\n",
       "    \"validation_time\": \"20230213T223235.429547Z\",\n",
       "    \"expectation_suite_meta\": {\n",
       "      \"great_expectations_version\": \"0.15.48\"\n",
       "    }\n",
       "  }\n",
       "}"
      ]
     },
     "execution_count": 50,
     "metadata": {},
     "output_type": "execute_result"
    }
   ],
   "source": [
    "result = df_test_2.validate(my_expectations, only_return_failures=True)\n",
    "failures"
   ]
  },
  {
   "cell_type": "code",
   "execution_count": null,
   "metadata": {},
   "outputs": [],
   "source": []
  }
 ],
 "metadata": {
  "kernelspec": {
   "display_name": "Python 3 (ipykernel)",
   "language": "python",
   "name": "python3"
  },
  "language_info": {
   "codemirror_mode": {
    "name": "ipython",
    "version": 3
   },
   "file_extension": ".py",
   "mimetype": "text/x-python",
   "name": "python",
   "nbconvert_exporter": "python",
   "pygments_lexer": "ipython3",
   "version": "3.9.6"
  }
 },
 "nbformat": 4,
 "nbformat_minor": 4
}
